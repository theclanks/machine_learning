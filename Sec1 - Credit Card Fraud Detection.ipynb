{
 "cells": [
  {
   "cell_type": "code",
   "execution_count": 1,
   "metadata": {},
   "outputs": [],
   "source": [
    "import pandas as pd\n",
    "import numpy as np\n",
    "from scipy import stats\n",
    "from matplotlib import pyplot as plt\n",
    "import seaborn as sns\n",
    "from scipy.stats import entropy\n",
    "import plotly.graph_objs as go\n",
    "import plotly.offline as py\n",
    "from sklearn.model_selection import train_test_split\n",
    "from sklearn import metrics"
   ]
  },
  {
   "cell_type": "code",
   "execution_count": 2,
   "metadata": {},
   "outputs": [],
   "source": [
    "from statsmodels.tsa.seasonal import STL"
   ]
  },
  {
   "cell_type": "code",
   "execution_count": 3,
   "metadata": {},
   "outputs": [],
   "source": [
    "#df_id = pd.read_csv(\"data/train_identity.csv\")\n",
    "df_trans = pd.read_csv(\"data/train_transaction.csv\")"
   ]
  },
  {
   "cell_type": "code",
   "execution_count": 4,
   "metadata": {},
   "outputs": [],
   "source": [
    "def entropyValues(values):\n",
    "    if len(values) >= 3:\n",
    "        return np.nan_to_num(entropy(values, base=2), nan=0, posinf=0, neginf=0)\n",
    "    else:\n",
    "        return -1\n",
    "def stdValue(vlr):\n",
    "    if len(vlr) > 1:\n",
    "        max = np.max(vlr)\n",
    "        avg = np.mean(vlr)\n",
    "\n",
    "        return np.nan_to_num(np.divide(avg,max), nan=1, posinf=1, neginf=1)\n",
    "    else:\n",
    "        return 1\n",
    "def correlation(vlr):\n",
    "  if stats.uniform.fit(vlr)[1] == 0:\n",
    "    return 0\n",
    "\n",
    "  if len(vlr) > 1:\n",
    "    #interval = list(range(0,len(vlr)))\n",
    "    interval = stats.powerlaw.rvs(2,size=(len(vlr)))\n",
    "    return stats.pearsonr(vlr, interval)[0]\n",
    "  else:\n",
    "    return 0"
   ]
  },
  {
   "cell_type": "code",
   "execution_count": 5,
   "metadata": {},
   "outputs": [],
   "source": [
    "def resumetable(df):\n",
    "    print(f\"Dataset Shape: {df.shape}\")\n",
    "    summary = pd.DataFrame(df.dtypes,columns=['dtypes'])\n",
    "    summary = summary.reset_index()\n",
    "    summary['Name'] = summary['index']\n",
    "    summary = summary[['Name','dtypes']]\n",
    "    summary['Missing'] = df.isnull().sum().values    \n",
    "    summary['Uniques'] = df.nunique().values\n",
    "    summary['First Value'] = df.loc[0].values\n",
    "    summary['Second Value'] = df.loc[1].values\n",
    "    summary['Third Value'] = df.loc[2].values\n",
    "    # memory error\n",
    "    #for name in summary['Name'].value_counts().index:\n",
    "    #    summary.loc[summary['Name'] == name, 'Entropy'] = round(stats.entropy(df[name].value_counts(normalize=True), base=2),2) \n",
    "\n",
    "    return summary\n",
    "\n",
    "## Function to reduce the DF size\n",
    "def reduce_mem_usage(df, verbose=True):\n",
    "    numerics = ['int16', 'int32', 'int64', 'float16', 'float32', 'float64']\n",
    "    start_mem = df.memory_usage().sum() / 1024**2    \n",
    "    for col in df.columns:\n",
    "        col_type = df[col].dtypes\n",
    "        if col_type in numerics:\n",
    "            c_min = df[col].min()\n",
    "            c_max = df[col].max()\n",
    "            if str(col_type)[:3] == 'int':\n",
    "                if c_min > np.iinfo(np.int8).min and c_max < np.iinfo(np.int8).max:\n",
    "                    df[col] = df[col].astype(np.int8)\n",
    "                elif c_min > np.iinfo(np.int16).min and c_max < np.iinfo(np.int16).max:\n",
    "                    df[col] = df[col].astype(np.int16)\n",
    "                elif c_min > np.iinfo(np.int32).min and c_max < np.iinfo(np.int32).max:\n",
    "                    df[col] = df[col].astype(np.int32)\n",
    "                elif c_min > np.iinfo(np.int64).min and c_max < np.iinfo(np.int64).max:\n",
    "                    df[col] = df[col].astype(np.int64)  \n",
    "            else:\n",
    "                if c_min > np.finfo(np.float16).min and c_max < np.finfo(np.float16).max:\n",
    "                    df[col] = df[col].astype(np.float16)\n",
    "                elif c_min > np.finfo(np.float32).min and c_max < np.finfo(np.float32).max:\n",
    "                    df[col] = df[col].astype(np.float32)\n",
    "                else:\n",
    "                    df[col] = df[col].astype(np.float64)    \n",
    "    end_mem = df.memory_usage().sum() / 1024**2\n",
    "    if verbose: print('Mem. usage decreased to {:5.2f} Mb ({:.1f}% reduction)'.format(end_mem, 100 * (start_mem - end_mem) / start_mem))\n",
    "    return df\n",
    "\n",
    "def CalcOutliers(df_num): \n",
    "\n",
    "    # calculating mean and std of the array\n",
    "    data_mean, data_std = np.mean(df_num), np.std(df_num)\n",
    "\n",
    "    # seting the cut line to both higher and lower values\n",
    "    # You can change this value\n",
    "    cut = data_std * 3\n",
    "\n",
    "    #Calculating the higher and lower cut values\n",
    "    lower, upper = data_mean - cut, data_mean + cut\n",
    "\n",
    "    # creating an array of lower, higher and total outlier values \n",
    "    outliers_lower = [x for x in df_num if x < lower]\n",
    "    outliers_higher = [x for x in df_num if x > upper]\n",
    "    outliers_total = [x for x in df_num if x < lower or x > upper]\n",
    "\n",
    "    # array without outlier values\n",
    "    outliers_removed = [x for x in df_num if x > lower and x < upper]\n",
    "    \n",
    "    print('Identified lowest outliers: %d' % len(outliers_lower)) # printing total number of values in lower cut of outliers\n",
    "    print('Identified upper outliers: %d' % len(outliers_higher)) # printing total number of values in higher cut of outliers\n",
    "    print('Total outlier observations: %d' % len(outliers_total)) # printing total number of values outliers of both sides\n",
    "    print('Non-outlier observations: %d' % len(outliers_removed)) # printing total number of non outlier values\n",
    "    print(\"Total percentual of Outliers: \", round((len(outliers_total) / len(outliers_removed) )*100, 4)) # Percentual of outliers in points\n",
    "    \n",
    "    return"
   ]
  },
  {
   "cell_type": "code",
   "execution_count": 6,
   "metadata": {},
   "outputs": [
    {
     "name": "stdout",
     "output_type": "stream",
     "text": [
      "Mem. usage decreased to 542.35 Mb (69.4% reduction)\n"
     ]
    }
   ],
   "source": [
    "## Reducing memory\n",
    "df_trans = reduce_mem_usage(df_trans)\n",
    "#df_id = reduce_mem_usage(df_id)"
   ]
  },
  {
   "cell_type": "markdown",
   "metadata": {},
   "source": [
    "# EDA"
   ]
  },
  {
   "cell_type": "markdown",
   "metadata": {},
   "source": [
    "## Knowing partial data"
   ]
  },
  {
   "cell_type": "code",
   "execution_count": 1,
   "metadata": {},
   "outputs": [
    {
     "ename": "NameError",
     "evalue": "name 'resumetable' is not defined",
     "output_type": "error",
     "traceback": [
      "\u001b[0;31m---------------------------------------------------------------------------\u001b[0m",
      "\u001b[0;31mNameError\u001b[0m                                 Traceback (most recent call last)",
      "\u001b[0;32m<ipython-input-1-6bc7f11614cb>\u001b[0m in \u001b[0;36m<module>\u001b[0;34m\u001b[0m\n\u001b[0;32m----> 1\u001b[0;31m \u001b[0mresumetable\u001b[0m\u001b[0;34m(\u001b[0m\u001b[0mdf_trans\u001b[0m\u001b[0;34m)\u001b[0m\u001b[0;34m[\u001b[0m\u001b[0;34m:\u001b[0m\u001b[0;36m100\u001b[0m\u001b[0;34m]\u001b[0m\u001b[0;34m\u001b[0m\u001b[0;34m\u001b[0m\u001b[0m\n\u001b[0m",
      "\u001b[0;31mNameError\u001b[0m: name 'resumetable' is not defined"
     ]
    }
   ],
   "source": [
    "resumetable(df_trans)[:100]"
   ]
  },
  {
   "cell_type": "markdown",
   "metadata": {},
   "source": [
    "### Mostly problems of fraud detection is unbalanced"
   ]
  },
  {
   "cell_type": "code",
   "execution_count": 10,
   "metadata": {},
   "outputs": [
    {
     "data": {
      "image/png": "[encoded data removed]",
      "text/plain": [
       "<Figure size 1152x432 with 2 Axes>"
      ]
     },
     "metadata": {
      "needs_background": "light"
     },
     "output_type": "display_data"
    }
   ],
   "source": [
    "df_trans['TransactionAmt'] = df_trans['TransactionAmt'].astype(float)\n",
    "total = len(df_trans)\n",
    "total_amt = df_trans.groupby(['isFraud'])['TransactionAmt'].sum().sum()\n",
    "plt.figure(figsize=(16,6))\n",
    "\n",
    "plt.subplot(121)\n",
    "g = sns.countplot(x='isFraud', data=df_trans, )\n",
    "g.set_title(\"Fraud Transactions Distribution \\n# 0: No Fraud | 1: Fraud #\", fontsize=22)\n",
    "g.set_xlabel(\"Is fraud?\", fontsize=18)\n",
    "g.set_ylabel('Count', fontsize=18)\n",
    "for p in g.patches:\n",
    "    height = p.get_height()\n",
    "    g.text(p.get_x()+p.get_width()/2.,\n",
    "            height + 3,\n",
    "            '{:1.2f}%'.format(height/total*100),\n",
    "            ha=\"center\", fontsize=15) \n",
    "\n",
    "perc_amt = (df_trans.groupby(['isFraud'])['TransactionAmt'].sum())\n",
    "perc_amt = perc_amt.reset_index()\n",
    "plt.subplot(122)\n",
    "g1 = sns.barplot(x='isFraud', y='TransactionAmt',  dodge=True, data=perc_amt)\n",
    "g1.set_title(\"% Total Amount in Transaction Amt \\n# 0: No Fraud | 1: Fraud #\", fontsize=22)\n",
    "g1.set_xlabel(\"Is fraud?\", fontsize=18)\n",
    "g1.set_ylabel('Total Transaction Amount Scalar', fontsize=18)\n",
    "for p in g1.patches:\n",
    "    height = p.get_height()\n",
    "    g1.text(p.get_x()+p.get_width()/2.,\n",
    "            height + 3,\n",
    "            '{:1.2f}%'.format(height/total_amt * 100),\n",
    "            ha=\"center\", fontsize=15) \n",
    "    \n",
    "plt.show()"
   ]
  },
  {
   "cell_type": "markdown",
   "metadata": {},
   "source": [
    "### Another problem in credit card operations is a outlier behavior"
   ]
  },
  {
   "cell_type": "code",
   "execution_count": 11,
   "metadata": {},
   "outputs": [
    {
     "name": "stdout",
     "output_type": "stream",
     "text": [
      "Identified lowest outliers: 0\n",
      "Identified upper outliers: 10097\n",
      "Total outlier observations: 10097\n",
      "Non-outlier observations: 580443\n",
      "Total percentual of Outliers:  1.7395\n"
     ]
    }
   ],
   "source": [
    "CalcOutliers(df_trans['TransactionAmt'])"
   ]
  },
  {
   "cell_type": "markdown",
   "metadata": {},
   "source": [
    "### Therefore, the elimination of outliers can be a risk, because sometimes the fraudulent behavior can be present in anomalies.\n",
    " The objective of this project is to implement a time series approach based on the repetition of credit card use in window time. The second goal is to introduce this data in unsupervised machine learning techniques, and the third is to join with a supervised machine learning technique through a voting classifier."
   ]
  },
  {
   "cell_type": "code",
   "execution_count": 12,
   "metadata": {},
   "outputs": [],
   "source": [
    "# https://www.kaggle.com/c/ieee-fraud-detection/discussion/100400#latest-579480\n",
    "import datetime\n",
    "\n",
    "START_DATE = '2017-12-01'\n",
    "startdate = datetime.datetime.strptime(START_DATE, \"%Y-%m-%d\")\n",
    "df_trans[\"Date\"] = df_trans['TransactionDT'].apply(lambda x: (startdate + datetime.timedelta(seconds=x)))\n",
    "\n",
    "df_trans['_Weekdays'] = df_trans['Date'].dt.dayofweek\n",
    "df_trans['_Hours'] = df_trans['Date'].dt.hour\n",
    "df_trans['_Days'] = df_trans['Date'].dt.day"
   ]
  },
  {
   "cell_type": "code",
   "execution_count": 13,
   "metadata": {},
   "outputs": [],
   "source": [
    "df_trans.index = df_trans[\"Date\"]"
   ]
  },
  {
   "cell_type": "code",
   "execution_count": 14,
   "metadata": {},
   "outputs": [],
   "source": [
    "df_trans['ds'] = df_trans[\"Date\"].dt.strftime(\"%Y-%m-%d %H:00:00\")"
   ]
  },
  {
   "cell_type": "code",
   "execution_count": 15,
   "metadata": {},
   "outputs": [],
   "source": [
    "df_trans.index = df_trans[['ds', 'card1']]"
   ]
  },
  {
   "cell_type": "code",
   "execution_count": 16,
   "metadata": {},
   "outputs": [],
   "source": [
    "fraudsTwoOrMore = df_trans.loc[df_trans.groupby(['ds', 'card1'])['TransactionID'].count() > 1]['isFraud'].value_counts()[1]\n",
    "fraudsOnlyOne = df_trans.loc[df_trans.groupby(['ds', 'card1'])['TransactionID'].count() == 1]['isFraud'].value_counts()[1]\n",
    "totalFrauds = df_trans['isFraud'].value_counts()[1]"
   ]
  },
  {
   "cell_type": "code",
   "execution_count": 17,
   "metadata": {},
   "outputs": [
    {
     "name": "stdout",
     "output_type": "stream",
     "text": [
      "Two or more frauds with same credit card: 58%\n",
      "Only one fraud with credit card: 42%\n"
     ]
    }
   ],
   "source": [
    "print(\"Two or more frauds with same credit card: {}%\".format(round((fraudsTwoOrMore / totalFrauds) * 100)))\n",
    "print(\"Only one fraud with credit card: {}%\".format(round((fraudsOnlyOne / totalFrauds) * 100)))"
   ]
  },
  {
   "cell_type": "code",
   "execution_count": 18,
   "metadata": {},
   "outputs": [],
   "source": [
    "## STL"
   ]
  },
  {
   "cell_type": "code",
   "execution_count": 19,
   "metadata": {},
   "outputs": [],
   "source": [
    "def residualTrend(df):\n",
    "    qtde = df.TransactionID.copy()\n",
    "    qtde.index = df.ds\n",
    "    period = 24\n",
    "    seasonal = period + ((period % 2) == 0)\n",
    "\n",
    "    low_pass_jump = seasonal_jump = int(0.15 * (period + 1))\n",
    "    trend_jump = int(0.15 * 1.5 * (period + 1))\n",
    "\n",
    "    mod = STL(qtde, period=period, seasonal=seasonal, seasonal_jump=seasonal_jump,\n",
    "          trend_jump=trend_jump, low_pass_jump=low_pass_jump, robust=True)\n",
    "\n",
    "    res = mod.fit()\n",
    "\n",
    "    return res"
   ]
  },
  {
   "cell_type": "code",
   "execution_count": 20,
   "metadata": {},
   "outputs": [],
   "source": [
    "df_count = df_trans.groupby(['ds', 'card1'])['TransactionID'].count().reset_index()\n",
    "df_count['rid'] = df_count.index"
   ]
  },
  {
   "cell_type": "code",
   "execution_count": 21,
   "metadata": {},
   "outputs": [],
   "source": [
    "residual = residualTrend(pd.DataFrame(df_count[['ds', 'TransactionID']]))"
   ]
  },
  {
   "cell_type": "code",
   "execution_count": 22,
   "metadata": {},
   "outputs": [],
   "source": [
    "df_count['resid'] = residual.resid.values"
   ]
  },
  {
   "cell_type": "code",
   "execution_count": 23,
   "metadata": {},
   "outputs": [],
   "source": [
    "df_count.index = df_count[['ds', 'card1']]"
   ]
  },
  {
   "cell_type": "code",
   "execution_count": 24,
   "metadata": {},
   "outputs": [],
   "source": [
    "df_trans['y'] = df_count['TransactionID']\n",
    "df_trans['resid'] = df_count['resid']\n",
    "df_trans['rid'] = df_count['rid']"
   ]
  },
  {
   "cell_type": "code",
   "execution_count": 25,
   "metadata": {},
   "outputs": [
    {
     "data": {
      "image/png": "[encoded data removed]",
      "text/plain": [
       "<Figure size 2160x360 with 1 Axes>"
      ]
     },
     "metadata": {
      "needs_background": "light"
     },
     "output_type": "display_data"
    }
   ],
   "source": [
    "df_trans['resid'].sort_index().plot(figsize=(30,5))\n",
    "plt.show()"
   ]
  },
  {
   "cell_type": "code",
   "execution_count": 26,
   "metadata": {},
   "outputs": [
    {
     "data": {
      "text/plain": [
       "count    5.905400e+05\n",
       "mean     1.242414e+00\n",
       "std      4.615752e+00\n",
       "min     -1.520143e+02\n",
       "25%     -2.220446e-16\n",
       "50%      4.502491e-04\n",
       "75%      1.208268e+00\n",
       "max      1.450000e+02\n",
       "Name: resid, dtype: float64"
      ]
     },
     "execution_count": 26,
     "metadata": {},
     "output_type": "execute_result"
    }
   ],
   "source": [
    "df_trans['resid'].describe()"
   ]
  },
  {
   "cell_type": "code",
   "execution_count": 27,
   "metadata": {},
   "outputs": [
    {
     "data": {
      "image/png": "[encoded data removed]",
      "text/plain": [
       "<Figure size 1800x360 with 1 Axes>"
      ]
     },
     "metadata": {
      "needs_background": "light"
     },
     "output_type": "display_data"
    },
    {
     "data": {
      "image/png": "[encoded data removed]",
      "text/plain": [
       "<Figure size 1800x360 with 1 Axes>"
      ]
     },
     "metadata": {
      "needs_background": "light"
     },
     "output_type": "display_data"
    }
   ],
   "source": [
    "df_trans[df_trans['isFraud'] == False].sort_index().plot(figsize=(25,5), kind='scatter', x='rid', y='resid', c='DarkBlue')\n",
    "df_trans[df_trans['isFraud'] == True].sort_index().plot(figsize=(25,5), kind='scatter', x='rid', y='resid', c='Red')\n",
    "plt.show()"
   ]
  },
  {
   "cell_type": "code",
   "execution_count": 28,
   "metadata": {},
   "outputs": [],
   "source": [
    "df_trans_grouped = df_trans.groupby(['ds', 'card1']).agg(entropy=pd.NamedAgg(column='TransactionAmt', aggfunc=entropyValues), \n",
    "                                                          vlrstd=pd.NamedAgg(column='TransactionAmt', aggfunc=stdValue),\n",
    "                                                         correlation=pd.NamedAgg(column='TransactionAmt', aggfunc=correlation)\n",
    "                                                          )"
   ]
  },
  {
   "cell_type": "code",
   "execution_count": 29,
   "metadata": {},
   "outputs": [],
   "source": [
    "df_trans['entropy'] = df_trans_grouped['entropy']\n",
    "df_trans['vlrstd']  = df_trans_grouped['vlrstd']\n",
    "df_trans['correlation']  = df_trans_grouped['correlation']"
   ]
  },
  {
   "cell_type": "markdown",
   "metadata": {},
   "source": [
    "### Some cases of fraud with high entropy and a high number of attempts in the time window"
   ]
  },
  {
   "cell_type": "code",
   "execution_count": 30,
   "metadata": {},
   "outputs": [],
   "source": [
    "trsh = 1\n",
    "\n",
    "resid = go.Scatter(\n",
    "    name = \"Resid\",\n",
    "    x = df_trans[(df_trans['resid'] > trsh) & (df_trans['isFraud'] == True)].ds.values,\n",
    "    y = df_trans[(df_trans['resid'] > trsh) & (df_trans['isFraud'] == True)].y.values,\n",
    "    mode='markers',\n",
    "    marker={\n",
    "                        'size': df_trans[(df_trans['resid'] > trsh) & (df_trans['isFraud'] == True)].resid,\n",
    "            'color': df_trans[(df_trans['resid'] > trsh) & (df_trans['isFraud'] == True)].entropy.values,\n",
    "            'colorscale': 'Viridis', # one of plotly colorscales\n",
    "        'showscale': True}\n",
    "    #y = resume.iloc[resume.index.get_level_values('week_day') == wd]['hour_mean_perc'].values\n",
    ")\n",
    "\n",
    "entropia = go.Bar(\n",
    "    name = 'Entropia',\n",
    "    x = df_trans[(df_trans['resid'] > trsh) & (df_trans['isFraud'] == True)].ds.values,\n",
    "    y = df_trans[(df_trans['resid'] > trsh) & (df_trans['isFraud'] == True)].entropy.values,\n",
    ")\n",
    "\n",
    "bar = go.Bar(\n",
    "    name = 'Qtde',\n",
    "    x = df_trans[(df_trans['resid'] > trsh) & (df_trans['isFraud'] == True)].ds.values,\n",
    "    y = df_trans[(df_trans['resid'] > trsh) & (df_trans['isFraud'] == True)].y.values,\n",
    ")\n",
    "\n",
    "\n",
    "layout = go.Layout(template='plotly_dark', xaxis_tickangle=-45,  bargap=0.15, title=\"Frauds with high entropy and a high number of attempts in the time window\",)\n",
    "\n",
    "#data = [trace, trend, media, SGD, bar]\n",
    "data = [resid]\n",
    "fig = go.Figure(data=data, layout=layout)"
   ]
  },
  {
   "cell_type": "code",
   "execution_count": 31,
   "metadata": {},
   "outputs": [
    {
     "data": {
      "text/plain": [
       "'resid.html'"
      ]
     },
     "execution_count": 31,
     "metadata": {},
     "output_type": "execute_result"
    }
   ],
   "source": [
    "py.offline.plot(fig, filename='resid.html') "
   ]
  },
  {
   "cell_type": "code",
   "execution_count": 32,
   "metadata": {},
   "outputs": [],
   "source": [
    "## Including more attributes"
   ]
  },
  {
   "cell_type": "code",
   "execution_count": 33,
   "metadata": {},
   "outputs": [],
   "source": [
    "c_family = ['C1', 'C2', 'C3', 'C4', 'C5', 'C6', 'C7', 'C8',\n",
    "                      'C9', 'C10', 'C11', 'C12', 'C13', 'C14']"
   ]
  },
  {
   "cell_type": "code",
   "execution_count": 585,
   "metadata": {},
   "outputs": [],
   "source": [
    "selected_vars = ['resid', 'entropy', 'y', 'vlrstd', 'isFraud', 'rid', 'correlation', 'card2',  'card3', 'card5' ]"
   ]
  },
  {
   "cell_type": "code",
   "execution_count": 586,
   "metadata": {},
   "outputs": [],
   "source": [
    "selected_vars = selected_vars + c_family"
   ]
  },
  {
   "cell_type": "code",
   "execution_count": 587,
   "metadata": {},
   "outputs": [],
   "source": [
    "x_train, x_test = train_test_split(df_trans[selected_vars], test_size = .30, random_state=1)"
   ]
  },
  {
   "cell_type": "code",
   "execution_count": 588,
   "metadata": {},
   "outputs": [],
   "source": [
    "x_train = x_train.fillna(0)\n",
    "x_test = x_test.fillna(0)"
   ]
  },
  {
   "cell_type": "markdown",
   "metadata": {},
   "source": [
    "## Unsupervised Approuch"
   ]
  },
  {
   "cell_type": "markdown",
   "metadata": {},
   "source": [
    "### Isolation Forest"
   ]
  },
  {
   "cell_type": "code",
   "execution_count": 589,
   "metadata": {},
   "outputs": [],
   "source": [
    "from sklearn.ensemble import IsolationForest"
   ]
  },
  {
   "cell_type": "code",
   "execution_count": 590,
   "metadata": {},
   "outputs": [],
   "source": [
    "inliers = df_trans[selected_vars][df_trans.isFraud == False]\n",
    "inliers = inliers.drop(['isFraud', 'rid'], axis=1).fillna(0)"
   ]
  },
  {
   "cell_type": "code",
   "execution_count": 591,
   "metadata": {},
   "outputs": [],
   "source": [
    "outliers = df_trans[selected_vars][df_trans.isFraud == True]\n",
    "outliers = outliers.drop(['isFraud', 'rid'], axis=1).fillna(0)"
   ]
  },
  {
   "cell_type": "code",
   "execution_count": 592,
   "metadata": {},
   "outputs": [],
   "source": [
    "inliers_train, inliers_test = train_test_split(inliers, test_size=0.30, random_state=42)"
   ]
  },
  {
   "cell_type": "code",
   "execution_count": 593,
   "metadata": {},
   "outputs": [
    {
     "data": {
      "text/plain": [
       "IsolationForest(behaviour='deprecated', bootstrap=False, contamination='auto',\n",
       "                max_features=1.0, max_samples='auto', n_estimators=100,\n",
       "                n_jobs=2, random_state=None, verbose=0, warm_start=False)"
      ]
     },
     "execution_count": 593,
     "metadata": {},
     "output_type": "execute_result"
    }
   ],
   "source": [
    "model = IsolationForest(n_estimators=100, n_jobs=2,  contamination='auto')\n",
    "model.fit(inliers_train)"
   ]
  },
  {
   "cell_type": "code",
   "execution_count": 594,
   "metadata": {},
   "outputs": [],
   "source": [
    "inlier_pred_test = model.predict(inliers_test)\n",
    "outlier_pred = model.predict(outliers)"
   ]
  },
  {
   "cell_type": "code",
   "execution_count": 595,
   "metadata": {},
   "outputs": [
    {
     "name": "stdout",
     "output_type": "stream",
     "text": [
      "Accuracy in Detecting Legit Cases: 0.933015137689806\n",
      "Accuracy in Detecting Fraud Cases: 0.22378163867782994\n"
     ]
    }
   ],
   "source": [
    "print(\"Accuracy in Detecting Legit Cases:\", list(inlier_pred_test).count(1)/inlier_pred_test.shape[0])\n",
    "print(\"Accuracy in Detecting Fraud Cases:\", list(outlier_pred).count(-1)/outlier_pred.shape[0])"
   ]
  },
  {
   "cell_type": "code",
   "execution_count": null,
   "metadata": {},
   "outputs": [],
   "source": []
  },
  {
   "cell_type": "markdown",
   "metadata": {},
   "source": [
    "### K-Means"
   ]
  },
  {
   "cell_type": "code",
   "execution_count": 596,
   "metadata": {},
   "outputs": [],
   "source": [
    "from sklearn.mixture import GaussianMixture, BayesianGaussianMixture\n",
    "from sklearn.base import BaseEstimator, ClassifierMixin\n",
    "class Kmeans_Classifier(BaseEstimator, ClassifierMixin):\n",
    "  def __init__(self, n_clusters=2, n_init=15, tol=1e-4, algorithm='elkan',\n",
    "                random_state=1):\n",
    "    ## TODO pegar params\n",
    "    #self.kmeans = KMeans(n_clusters=2, n_init=15, tol=1e-4, algorithm='elkan',\n",
    "                #random_state=1)\n",
    "    self.chg = 0\n",
    "    self.kmeans = GaussianMixture(n_components=2, covariance_type='full', max_iter=50, tol=0.00001, random_state=1)\n",
    "\n",
    "  def fit(self, target, y=None, sample_weight=None):\n",
    "    self.kmeans.fit(target, sample_weight)\n",
    "    self.classes_ = [0,1]\n",
    "\n",
    "  def predict(self, X):\n",
    "    preds = self.kmeans.predict(X)\n",
    "    if list(preds).count(0) > list(preds).count(1):\n",
    "      y_pred = preds == 1\n",
    "      self.chg = 1\n",
    "    else:\n",
    "      y_pred = preds == 0\n",
    "      self.chg = 0\n",
    "    return y_pred\n",
    "\n",
    "  def predict_proba(self, X):\n",
    "    preds_prob = self.kmeans.predict_proba(X)\n",
    "    if self.chg == 1:\n",
    "      return np.column_stack((preds_prob[:,1], preds_prob[:,0]))\n",
    "    else:\n",
    "      return np.column_stack((preds_prob[:,0], preds_prob[:,1]))"
   ]
  },
  {
   "cell_type": "code",
   "execution_count": 597,
   "metadata": {},
   "outputs": [],
   "source": [
    "from sklearn.preprocessing import StandardScaler, QuantileTransformer"
   ]
  },
  {
   "cell_type": "code",
   "execution_count": 600,
   "metadata": {},
   "outputs": [],
   "source": [
    "selected_vars2 = ['resid', 'entropy', 'y', 'vlrstd',  'card2', 'correlation', 'card3',  'card5']\n",
    "selected_vars2 = selected_vars2 + c_family"
   ]
  },
  {
   "cell_type": "code",
   "execution_count": 601,
   "metadata": {},
   "outputs": [],
   "source": [
    "quantil = StandardScaler().fit(x_train[selected_vars2])\n",
    "x_train_transf = quantil.transform(x_train[selected_vars2])\n",
    "x_test_transf = quantil.transform(x_test[selected_vars2])"
   ]
  },
  {
   "cell_type": "code",
   "execution_count": null,
   "metadata": {},
   "outputs": [],
   "source": []
  },
  {
   "cell_type": "code",
   "execution_count": 602,
   "metadata": {},
   "outputs": [],
   "source": [
    "km = Kmeans_Classifier()\n",
    "km.fit(x_train_transf)\n",
    "preds = km.predict(x_test_transf)"
   ]
  },
  {
   "cell_type": "code",
   "execution_count": 603,
   "metadata": {},
   "outputs": [],
   "source": [
    "#preds_prob = km.predict_proba(x_test_transf)"
   ]
  },
  {
   "cell_type": "code",
   "execution_count": 604,
   "metadata": {},
   "outputs": [
    {
     "name": "stdout",
     "output_type": "stream",
     "text": [
      "              precision    recall  f1-score   support\n",
      "\n",
      "           0       0.98      0.89      0.93    171015\n",
      "           1       0.12      0.39      0.18      6147\n",
      "\n",
      "    accuracy                           0.88    177162\n",
      "   macro avg       0.55      0.64      0.56    177162\n",
      "weighted avg       0.95      0.88      0.91    177162\n",
      "\n",
      "[[152755  18260]\n",
      " [  3751   2396]]\n"
     ]
    }
   ],
   "source": [
    "print(metrics.classification_report(x_test.isFraud, preds))\n",
    "print(metrics.confusion_matrix(x_test.isFraud, preds))\n",
    "#print(brier_score_loss(y, km.predict_proba(x_train)[:,1]))"
   ]
  },
  {
   "cell_type": "markdown",
   "metadata": {},
   "source": [
    "### Supervised approach"
   ]
  },
  {
   "cell_type": "code",
   "execution_count": 606,
   "metadata": {},
   "outputs": [],
   "source": [
    "from sklearn.naive_bayes import GaussianNB, ComplementNB, BernoulliNB"
   ]
  },
  {
   "cell_type": "code",
   "execution_count": 607,
   "metadata": {},
   "outputs": [],
   "source": [
    "gnb = BernoulliNB().fit(x_train_transf, x_train.isFraud)"
   ]
  },
  {
   "cell_type": "code",
   "execution_count": 608,
   "metadata": {},
   "outputs": [
    {
     "name": "stdout",
     "output_type": "stream",
     "text": [
      "              precision    recall  f1-score   support\n",
      "\n",
      "           0       0.97      0.99      0.98    171015\n",
      "           1       0.33      0.19      0.24      6147\n",
      "\n",
      "    accuracy                           0.96    177162\n",
      "   macro avg       0.65      0.59      0.61    177162\n",
      "weighted avg       0.95      0.96      0.95    177162\n",
      "\n",
      "[[168678   2337]\n",
      " [  4992   1155]]\n"
     ]
    }
   ],
   "source": [
    "preds = gnb.predict(x_test_transf)\n",
    "print(metrics.classification_report(x_test.isFraud, preds))\n",
    "print(metrics.confusion_matrix(x_test.isFraud, preds))\n",
    "#print(brier_score_loss(y, gnb.predict_proba(x_train)[:,1]))"
   ]
  },
  {
   "cell_type": "code",
   "execution_count": 609,
   "metadata": {},
   "outputs": [],
   "source": [
    "from sklearn.tree import DecisionTreeClassifier\n",
    "from sklearn.ensemble import RandomForestClassifier"
   ]
  },
  {
   "cell_type": "code",
   "execution_count": 610,
   "metadata": {},
   "outputs": [],
   "source": [
    "dt = DecisionTreeClassifier().fit(x_train_transf, x_train.isFraud)"
   ]
  },
  {
   "cell_type": "code",
   "execution_count": 611,
   "metadata": {},
   "outputs": [
    {
     "name": "stdout",
     "output_type": "stream",
     "text": [
      "              precision    recall  f1-score   support\n",
      "\n",
      "           0       0.99      0.98      0.98    171015\n",
      "           1       0.58      0.59      0.58      6147\n",
      "\n",
      "    accuracy                           0.97    177162\n",
      "   macro avg       0.78      0.79      0.78    177162\n",
      "weighted avg       0.97      0.97      0.97    177162\n",
      "\n",
      "[[168367   2648]\n",
      " [  2537   3610]]\n"
     ]
    }
   ],
   "source": [
    "preds = dt.predict(x_test_transf)\n",
    "print(metrics.classification_report(x_test.isFraud, preds))\n",
    "print(metrics.confusion_matrix(x_test.isFraud, preds))\n",
    "#print(brier_score_loss(y, dt.predict_proba(x_train)[:,1]))"
   ]
  },
  {
   "cell_type": "code",
   "execution_count": 612,
   "metadata": {},
   "outputs": [
    {
     "name": "stdout",
     "output_type": "stream",
     "text": [
      "Feature ranking:\n",
      "1. resid (0.12292695003191244)\n",
      "2. entropy (0.03281381589982604)\n",
      "3. y (0.013615891373897817)\n",
      "4. vlrstd (0.059983269284203035)\n",
      "5. card2 (0.1168193277130023)\n",
      "6. correlation (0.03849456479204807)\n",
      "7. card3 (0.01802086201301782)\n",
      "8. card5 (0.04462808162450976)\n",
      "9. C1 (0.13094867395145934)\n",
      "10. C2 (0.042766963214122426)\n",
      "11. C3 (0.0008581279088139374)\n",
      "12. C4 (0.01608868823793763)\n",
      "13. C5 (0.007358452352493051)\n",
      "14. C6 (0.032759113765877056)\n",
      "15. C7 (0.07093056868885357)\n",
      "16. C8 (0.02616047010024304)\n",
      "17. C9 (0.027882060521843274)\n",
      "18. C10 (0.019099154100652816)\n",
      "19. C11 (0.02674973271608918)\n",
      "20. C12 (0.01626150622341549)\n",
      "21. C13 (0.08924177457606133)\n",
      "22. C14 (0.0455919509097207)\n"
     ]
    }
   ],
   "source": [
    "features_importance = dt.feature_importances_\n",
    " \n",
    "print(\"Feature ranking:\")\n",
    "for i, data_class in enumerate(x_train[selected_vars2].columns.values):\n",
    "    print(\"{}. {} ({})\".format(i + 1, data_class, features_importance[i]))"
   ]
  },
  {
   "cell_type": "code",
   "execution_count": 613,
   "metadata": {},
   "outputs": [],
   "source": [
    "from sklearn.ensemble import VotingClassifier"
   ]
  },
  {
   "cell_type": "code",
   "execution_count": 614,
   "metadata": {},
   "outputs": [],
   "source": [
    "eclf = VotingClassifier(estimators=[('km', km), ('nb', gnb), ('dt', dt)] ,\n",
    "                        voting='soft', weights=[1,1,2], n_jobs=3)"
   ]
  },
  {
   "cell_type": "code",
   "execution_count": 615,
   "metadata": {},
   "outputs": [
    {
     "name": "stderr",
     "output_type": "stream",
     "text": [
      "/home/luis/Projetos/KaBum/ml_env2/lib/python3.7/site-packages/sklearn/base.py:197: FutureWarning:\n",
      "\n",
      "From version 0.24, get_params will raise an AttributeError if a parameter cannot be retrieved as an instance attribute. Previously it would return None.\n",
      "\n"
     ]
    },
    {
     "data": {
      "text/plain": [
       "VotingClassifier(estimators=[('km',\n",
       "                              Kmeans_Classifier(algorithm=None, n_clusters=None,\n",
       "                                                n_init=None, random_state=None,\n",
       "                                                tol=None)),\n",
       "                             ('nb',\n",
       "                              BernoulliNB(alpha=1.0, binarize=0.0,\n",
       "                                          class_prior=None, fit_prior=True)),\n",
       "                             ('dt',\n",
       "                              DecisionTreeClassifier(ccp_alpha=0.0,\n",
       "                                                     class_weight=None,\n",
       "                                                     criterion='gini',\n",
       "                                                     max_depth=None,\n",
       "                                                     max_features=None,\n",
       "                                                     max_leaf_nodes=None,\n",
       "                                                     min_impurity_decrease=0.0,\n",
       "                                                     min_impurity_split=None,\n",
       "                                                     min_samples_leaf=1,\n",
       "                                                     min_samples_split=2,\n",
       "                                                     min_weight_fraction_leaf=0.0,\n",
       "                                                     presort='deprecated',\n",
       "                                                     random_state=None,\n",
       "                                                     splitter='best'))],\n",
       "                 flatten_transform=True, n_jobs=3, voting='soft',\n",
       "                 weights=[1, 1, 2])"
      ]
     },
     "execution_count": 615,
     "metadata": {},
     "output_type": "execute_result"
    }
   ],
   "source": [
    "eclf.fit(x_train_transf, x_train.isFraud)"
   ]
  },
  {
   "cell_type": "code",
   "execution_count": 616,
   "metadata": {},
   "outputs": [],
   "source": [
    "preds = eclf.predict(x_test_transf)"
   ]
  },
  {
   "cell_type": "code",
   "execution_count": 617,
   "metadata": {},
   "outputs": [
    {
     "name": "stdout",
     "output_type": "stream",
     "text": [
      "              precision    recall  f1-score   support\n",
      "\n",
      "           0       0.99      0.98      0.98    171015\n",
      "           1       0.57      0.59      0.58      6147\n",
      "\n",
      "    accuracy                           0.97    177162\n",
      "   macro avg       0.78      0.79      0.78    177162\n",
      "weighted avg       0.97      0.97      0.97    177162\n",
      "\n",
      "[[168309   2706]\n",
      " [  2512   3635]]\n"
     ]
    }
   ],
   "source": [
    "print(metrics.classification_report(x_test.isFraud, preds))\n",
    "print(metrics.confusion_matrix(x_test.isFraud, preds))"
   ]
  },
  {
   "cell_type": "code",
   "execution_count": 618,
   "metadata": {},
   "outputs": [
    {
     "name": "stdout",
     "output_type": "stream",
     "text": [
      "0.9705467312403337\n",
      "0.566898061108128\n"
     ]
    }
   ],
   "source": [
    "print(metrics.accuracy_score(x_test.isFraud, preds))\n",
    "print(metrics.cohen_kappa_score(x_test.isFraud, preds))"
   ]
  },
  {
   "cell_type": "code",
   "execution_count": 619,
   "metadata": {},
   "outputs": [],
   "source": [
    "from sklearn.calibration import CalibratedClassifierCV"
   ]
  },
  {
   "cell_type": "code",
   "execution_count": 655,
   "metadata": {},
   "outputs": [
    {
     "name": "stderr",
     "output_type": "stream",
     "text": [
      "/home/luis/Projetos/KaBum/ml_env2/lib/python3.7/site-packages/sklearn/base.py:197: FutureWarning:\n",
      "\n",
      "From version 0.24, get_params will raise an AttributeError if a parameter cannot be retrieved as an instance attribute. Previously it would return None.\n",
      "\n",
      "/home/luis/Projetos/KaBum/ml_env2/lib/python3.7/site-packages/sklearn/base.py:197: FutureWarning:\n",
      "\n",
      "From version 0.24, get_params will raise an AttributeError if a parameter cannot be retrieved as an instance attribute. Previously it would return None.\n",
      "\n",
      "/home/luis/Projetos/KaBum/ml_env2/lib/python3.7/site-packages/sklearn/base.py:197: FutureWarning:\n",
      "\n",
      "From version 0.24, get_params will raise an AttributeError if a parameter cannot be retrieved as an instance attribute. Previously it would return None.\n",
      "\n",
      "/home/luis/Projetos/KaBum/ml_env2/lib/python3.7/site-packages/sklearn/base.py:197: FutureWarning:\n",
      "\n",
      "From version 0.24, get_params will raise an AttributeError if a parameter cannot be retrieved as an instance attribute. Previously it would return None.\n",
      "\n",
      "/home/luis/Projetos/KaBum/ml_env2/lib/python3.7/site-packages/sklearn/base.py:197: FutureWarning:\n",
      "\n",
      "From version 0.24, get_params will raise an AttributeError if a parameter cannot be retrieved as an instance attribute. Previously it would return None.\n",
      "\n",
      "/home/luis/Projetos/KaBum/ml_env2/lib/python3.7/site-packages/sklearn/base.py:197: FutureWarning:\n",
      "\n",
      "From version 0.24, get_params will raise an AttributeError if a parameter cannot be retrieved as an instance attribute. Previously it would return None.\n",
      "\n",
      "/home/luis/Projetos/KaBum/ml_env2/lib/python3.7/site-packages/sklearn/base.py:197: FutureWarning:\n",
      "\n",
      "From version 0.24, get_params will raise an AttributeError if a parameter cannot be retrieved as an instance attribute. Previously it would return None.\n",
      "\n",
      "/home/luis/Projetos/KaBum/ml_env2/lib/python3.7/site-packages/sklearn/base.py:197: FutureWarning:\n",
      "\n",
      "From version 0.24, get_params will raise an AttributeError if a parameter cannot be retrieved as an instance attribute. Previously it would return None.\n",
      "\n",
      "/home/luis/Projetos/KaBum/ml_env2/lib/python3.7/site-packages/sklearn/base.py:197: FutureWarning:\n",
      "\n",
      "From version 0.24, get_params will raise an AttributeError if a parameter cannot be retrieved as an instance attribute. Previously it would return None.\n",
      "\n",
      "/home/luis/Projetos/KaBum/ml_env2/lib/python3.7/site-packages/sklearn/base.py:197: FutureWarning:\n",
      "\n",
      "From version 0.24, get_params will raise an AttributeError if a parameter cannot be retrieved as an instance attribute. Previously it would return None.\n",
      "\n",
      "/home/luis/Projetos/KaBum/ml_env2/lib/python3.7/site-packages/sklearn/base.py:197: FutureWarning:\n",
      "\n",
      "From version 0.24, get_params will raise an AttributeError if a parameter cannot be retrieved as an instance attribute. Previously it would return None.\n",
      "\n",
      "/home/luis/Projetos/KaBum/ml_env2/lib/python3.7/site-packages/sklearn/base.py:197: FutureWarning:\n",
      "\n",
      "From version 0.24, get_params will raise an AttributeError if a parameter cannot be retrieved as an instance attribute. Previously it would return None.\n",
      "\n",
      "/home/luis/Projetos/KaBum/ml_env2/lib/python3.7/site-packages/sklearn/base.py:197: FutureWarning:\n",
      "\n",
      "From version 0.24, get_params will raise an AttributeError if a parameter cannot be retrieved as an instance attribute. Previously it would return None.\n",
      "\n",
      "/home/luis/Projetos/KaBum/ml_env2/lib/python3.7/site-packages/sklearn/base.py:197: FutureWarning:\n",
      "\n",
      "From version 0.24, get_params will raise an AttributeError if a parameter cannot be retrieved as an instance attribute. Previously it would return None.\n",
      "\n",
      "/home/luis/Projetos/KaBum/ml_env2/lib/python3.7/site-packages/sklearn/base.py:197: FutureWarning:\n",
      "\n",
      "From version 0.24, get_params will raise an AttributeError if a parameter cannot be retrieved as an instance attribute. Previously it would return None.\n",
      "\n"
     ]
    }
   ],
   "source": [
    "clf_sigmoid = CalibratedClassifierCV(eclf, cv=15,  method='sigmoid')\n",
    "clf_sigmoid.fit(x_train_transf, x_train.isFraud)\n",
    "prob_pos_sigmoid = clf_sigmoid.predict_proba(x_test_transf)[:, 1]"
   ]
  },
  {
   "cell_type": "code",
   "execution_count": 656,
   "metadata": {},
   "outputs": [
    {
     "name": "stderr",
     "output_type": "stream",
     "text": [
      "/home/luis/Projetos/KaBum/ml_env2/lib/python3.7/site-packages/seaborn/distributions.py:198: UserWarning:\n",
      "\n",
      "Data has no positive values, and therefore cannot be log-scaled.\n",
      "\n"
     ]
    },
    {
     "data": {
      "image/png": "[encoded data removed]",
      "text/plain": [
       "<Figure size 720x504 with 1 Axes>"
      ]
     },
     "metadata": {
      "needs_background": "light"
     },
     "output_type": "display_data"
    }
   ],
   "source": [
    "curve_int = np.interp(np.log2(prob_pos_sigmoid) , (np.log2(prob_pos_sigmoid).min(), np.log2(prob_pos_sigmoid) .max()), (1, +100))\n",
    "f, ax = plt.subplots(figsize=(10, 7))\n",
    "ax.set( yscale=\"log\")\n",
    "plt.title(\"Interpoled calibration curve\")\n",
    "sns.distplot(curve_int, kde=False, ax=ax, label=\"True\")\n",
    "plt.show()"
   ]
  },
  {
   "cell_type": "code",
   "execution_count": 657,
   "metadata": {},
   "outputs": [],
   "source": [
    "prob_pos_sigmoid = clf_sigmoid.predict_proba(quantil.transform(df_trans[selected_vars2].fillna(0)))[:, 1]\n",
    "df_trans['fraud'] = clf_sigmoid.predict(quantil.transform(df_trans[selected_vars2].fillna(0)))\n",
    "df_trans['score'] = np.interp(np.log2(prob_pos_sigmoid) , (np.log2(prob_pos_sigmoid).min(), np.log2(prob_pos_sigmoid) .max()), (1, +100))"
   ]
  },
  {
   "cell_type": "code",
   "execution_count": 658,
   "metadata": {},
   "outputs": [
    {
     "name": "stdout",
     "output_type": "stream",
     "text": [
      "              precision    recall  f1-score   support\n",
      "\n",
      "           0       0.98      1.00      0.99    569877\n",
      "           1       0.98      0.31      0.48     20663\n",
      "\n",
      "    accuracy                           0.98    590540\n",
      "   macro avg       0.98      0.66      0.73    590540\n",
      "weighted avg       0.98      0.98      0.97    590540\n",
      "\n",
      "[[569758    119]\n",
      " [ 14157   6506]]\n",
      "0.9758255156297626\n",
      "0.4677976253700604\n"
     ]
    }
   ],
   "source": [
    "print(metrics.classification_report(df_trans.isFraud, df_trans['fraud']))\n",
    "print(metrics.confusion_matrix(df_trans.isFraud, df_trans['fraud']))\n",
    "print(metrics.accuracy_score(df_trans.isFraud, df_trans['fraud']))\n",
    "print(metrics.cohen_kappa_score(df_trans.isFraud, df_trans['fraud']))"
   ]
  },
  {
   "cell_type": "code",
   "execution_count": 659,
   "metadata": {},
   "outputs": [
    {
     "name": "stderr",
     "output_type": "stream",
     "text": [
      "/home/luis/Projetos/KaBum/ml_env2/lib/python3.7/site-packages/seaborn/distributions.py:198: UserWarning:\n",
      "\n",
      "Data has no positive values, and therefore cannot be log-scaled.\n",
      "\n"
     ]
    },
    {
     "data": {
      "image/png": "[encoded data removed]",
      "text/plain": [
       "<Figure size 720x504 with 1 Axes>"
      ]
     },
     "metadata": {
      "needs_background": "light"
     },
     "output_type": "display_data"
    }
   ],
   "source": [
    "f, ax = plt.subplots(figsize=(10, 7))\n",
    "ax.set( yscale=\"log\")\n",
    "plt.title(\"Interpoled calibration curve - False Negatives with Positives\")\n",
    "sns.distplot(df_trans[(df_trans.isFraud == True) & (df_trans.fraud == True)  & (df_trans.score > 0)].score.values, kde=False, ax=ax, label=\"True\")\n",
    "sns.distplot(df_trans[(df_trans.isFraud == True) & (df_trans.fraud == False)  & (df_trans.score > 0)].score.values,  kde=False, ax=ax, label=\"False Negative\")\n",
    "plt.legend(loc='best')\n",
    "plt.show()"
   ]
  },
  {
   "cell_type": "code",
   "execution_count": 660,
   "metadata": {},
   "outputs": [
    {
     "data": {
      "image/png": "[encoded data removed]",
      "text/plain": [
       "<Figure size 720x504 with 1 Axes>"
      ]
     },
     "metadata": {
      "needs_background": "light"
     },
     "output_type": "display_data"
    }
   ],
   "source": [
    "f, ax = plt.subplots(figsize=(10, 7))\n",
    "ax.set( yscale=\"log\")\n",
    "plt.title(\"Interpoled calibration curve - False Positives with Positives\")\n",
    "sns.distplot(df_trans[(df_trans.isFraud == True) & (df_trans.fraud == True)  & (df_trans.score > 0)].score.values, kde=False, ax=ax, label=\"True\")\n",
    "sns.distplot(df_trans[(df_trans.isFraud == False) & (df_trans.fraud == True)  & (df_trans.score > 0)].score.values,  kde=False, ax=ax, label=\"False Positives\")\n",
    "plt.legend(loc='best')\n",
    "plt.show()"
   ]
  },
  {
   "cell_type": "code",
   "execution_count": 661,
   "metadata": {},
   "outputs": [
    {
     "data": {
      "image/png": "[encoded data removed]",
      "text/plain": [
       "<Figure size 720x504 with 1 Axes>"
      ]
     },
     "metadata": {
      "needs_background": "light"
     },
     "output_type": "display_data"
    }
   ],
   "source": [
    "f, ax = plt.subplots(figsize=(10, 7))\n",
    "ax.set( yscale=\"log\")\n",
    "plt.title(\"Interpoled calibration curve - False Negatives with Negatives\")\n",
    "sns.distplot(df_trans[(df_trans.isFraud == False) & (df_trans.fraud == False)  & (df_trans.score > 0)].score.values, kde=False, ax=ax, label=\"Negative\")\n",
    "sns.distplot(df_trans[(df_trans.isFraud == True) & (df_trans.fraud == False)  & (df_trans.score > 0)].score.values,  kde=False, ax=ax, label=\"False Negative\")\n",
    "plt.legend(loc='best')\n",
    "plt.show()"
   ]
  },
  {
   "cell_type": "code",
   "execution_count": 674,
   "metadata": {},
   "outputs": [],
   "source": [
    "from sklearn.metrics import roc_curve, roc_auc_score, precision_recall_curve, plot_precision_recall_curve, average_precision_score\n",
    "\n",
    "fpr, tpr, thresholds = roc_curve(df_trans.isFraud, df_trans.score)"
   ]
  },
  {
   "cell_type": "code",
   "execution_count": 666,
   "metadata": {},
   "outputs": [
    {
     "name": "stdout",
     "output_type": "stream",
     "text": [
      "AUC of ROC Curve: 0.9635828450052801\n"
     ]
    }
   ],
   "source": [
    "roc_auc = roc_auc_score(df_trans.isFraud, df_trans.score)\n",
    "print(\"AUC of ROC Curve:\", roc_auc)"
   ]
  },
  {
   "cell_type": "code",
   "execution_count": 667,
   "metadata": {},
   "outputs": [
    {
     "data": {
      "image/png": "[encoded data removed]",
      "text/plain": [
       "<Figure size 432x288 with 1 Axes>"
      ]
     },
     "metadata": {
      "needs_background": "light"
     },
     "output_type": "display_data"
    }
   ],
   "source": [
    "plt.plot(fpr, tpr)\n",
    "plt.title(\"ROC Curve\")\n",
    "plt.xlabel(\"False Positive Rate\")\n",
    "plt.ylabel(\"True Positive Rate\")\n",
    "plt.show()"
   ]
  },
  {
   "cell_type": "markdown",
   "metadata": {},
   "source": [
    "### Nexts steps: \n",
    "                * Include another dataset variables\n",
    "                * Improve tradeoff with Recall vs Precision\n",
    "                "
   ]
  },
  {
   "cell_type": "code",
   "execution_count": 675,
   "metadata": {},
   "outputs": [],
   "source": [
    "average_precision = average_precision_score(df_trans.isFraud, df_trans.score)"
   ]
  },
  {
   "cell_type": "code",
   "execution_count": 677,
   "metadata": {},
   "outputs": [
    {
     "data": {
      "image/png": "[encoded data removed]",
      "text/plain": [
       "<Figure size 432x288 with 1 Axes>"
      ]
     },
     "metadata": {
      "needs_background": "light"
     },
     "output_type": "display_data"
    }
   ],
   "source": [
    "disp = plot_precision_recall_curve(clf_sigmoid, quantil.transform(df_trans[selected_vars2].fillna(0)), df_trans.isFraud)\n",
    "disp.ax_.set_title('2-class Precision-Recall curve: '\n",
    "                   'AP={0:0.2f}'.format(average_precision))\n",
    "plt.show()"
   ]
  },
  {
   "cell_type": "code",
   "execution_count": 678,
   "metadata": {},
   "outputs": [],
   "source": [
    "df_trans.to_csv(\"data_predicted.csv\")"
   ]
  },
  {
   "cell_type": "code",
   "execution_count": null,
   "metadata": {},
   "outputs": [],
   "source": []
  }
 ],
 "metadata": {
  "kernelspec": {
   "display_name": "Python 3",
   "language": "python",
   "name": "python3"
  },
  "language_info": {
   "codemirror_mode": {
    "name": "ipython",
    "version": 3
   },
   "file_extension": ".py",
   "mimetype": "text/x-python",
   "name": "python",
   "nbconvert_exporter": "python",
   "pygments_lexer": "ipython3",
   "version": "3.7.8"
  }
 },
 "nbformat": 4,
 "nbformat_minor": 4
}
